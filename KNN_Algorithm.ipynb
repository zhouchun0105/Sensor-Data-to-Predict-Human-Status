{
  "nbformat": 4,
  "nbformat_minor": 0,
  "metadata": {
    "colab": {
      "name": "KNN Algorithm.ipynb",
      "provenance": [],
      "mount_file_id": "1jTAQ-Olekz7Zp_68gMFDQ_1n_L1cq2zi",
      "authorship_tag": "ABX9TyOCnUQnsVahcY2lacBTBje9",
      "include_colab_link": true
    },
    "kernelspec": {
      "name": "python3",
      "display_name": "Python 3"
    },
    "language_info": {
      "name": "python"
    }
  },
  "cells": [
    {
      "cell_type": "markdown",
      "metadata": {
        "id": "view-in-github",
        "colab_type": "text"
      },
      "source": [
        "<a href=\"https://colab.research.google.com/github/zhouchun0105/Sensor-Data-to-Predict-Human-Status/blob/main/KNN_Algorithm.ipynb\" target=\"_parent\"><img src=\"https://colab.research.google.com/assets/colab-badge.svg\" alt=\"Open In Colab\"/></a>"
      ]
    },
    {
      "cell_type": "markdown",
      "metadata": {
        "id": "dmDoBaxY7wYX"
      },
      "source": [
        "# **KNN**"
      ]
    },
    {
      "cell_type": "markdown",
      "metadata": {
        "id": "7EX8vjuO7ypF"
      },
      "source": [
        "\n",
        "\n",
        "*   Assumption: similar data points are close to each other in feature space.\n",
        "*   For each point of the dataset a Euclidian distance is calculated.\n",
        "*   For classification the mode of the K nearest data set is used.\n",
        "*   All data needs to be standardized to remove dominant effect.\n",
        "\n"
      ]
    },
    {
      "cell_type": "markdown",
      "metadata": {
        "id": "sHHNMaVN-A9H"
      },
      "source": [
        "### Advantage"
      ]
    },
    {
      "cell_type": "markdown",
      "metadata": {
        "id": "-HFigYR8-DVa"
      },
      "source": [
        "* No need to build a model, tune several parameters, or make additional assumptions\n",
        "* The algorithm is versatile and can be used for classification and regression"
      ]
    },
    {
      "cell_type": "markdown",
      "metadata": {
        "id": "WcMj-zEg-WiW"
      },
      "source": [
        "### Disadvantage"
      ]
    },
    {
      "cell_type": "markdown",
      "metadata": {
        "id": "HFei3Ijp-Zvp"
      },
      "source": [
        "* The algorithm gets significantly slower as the number of samples and features increase"
      ]
    },
    {
      "cell_type": "markdown",
      "metadata": {
        "id": "LgnTp4HR-jzI"
      },
      "source": [
        "# **Import Dataset**"
      ]
    },
    {
      "cell_type": "code",
      "metadata": {
        "id": "HwvpEc4K7yQ5"
      },
      "source": [
        "import pandas as pd"
      ],
      "execution_count": 2,
      "outputs": []
    },
    {
      "cell_type": "code",
      "metadata": {
        "id": "XWP-MYN1__nq"
      },
      "source": [
        "train = pd.read_csv(\"/content/drive/MyDrive/Datasets/train.csv\")"
      ],
      "execution_count": 4,
      "outputs": []
    },
    {
      "cell_type": "code",
      "metadata": {
        "id": "Vl98czVRM4ae"
      },
      "source": [
        "test = pd.read_csv(\"/content/drive/MyDrive/Datasets/test.csv\")"
      ],
      "execution_count": 7,
      "outputs": []
    },
    {
      "cell_type": "code",
      "metadata": {
        "id": "GW4Lt95cFPwn"
      },
      "source": [
        "train_feature = train.drop(columns=\"Status\")"
      ],
      "execution_count": 9,
      "outputs": []
    },
    {
      "cell_type": "code",
      "metadata": {
        "id": "9-ATLm3kNa7p"
      },
      "source": [
        "test_feature = test.drop(columns=\"Status\")"
      ],
      "execution_count": 12,
      "outputs": []
    },
    {
      "cell_type": "code",
      "metadata": {
        "colab": {
          "base_uri": "https://localhost:8080/",
          "height": 142
        },
        "id": "jYjust18QcSs",
        "outputId": "c5b4b08f-7103-4819-db6d-a1a3319619ae"
      },
      "source": [
        "train.head(3)"
      ],
      "execution_count": 32,
      "outputs": [
        {
          "output_type": "execute_result",
          "data": {
            "text/html": [
              "<div>\n",
              "<style scoped>\n",
              "    .dataframe tbody tr th:only-of-type {\n",
              "        vertical-align: middle;\n",
              "    }\n",
              "\n",
              "    .dataframe tbody tr th {\n",
              "        vertical-align: top;\n",
              "    }\n",
              "\n",
              "    .dataframe thead th {\n",
              "        text-align: right;\n",
              "    }\n",
              "</style>\n",
              "<table border=\"1\" class=\"dataframe\">\n",
              "  <thead>\n",
              "    <tr style=\"text-align: right;\">\n",
              "      <th></th>\n",
              "      <th>Sound (dB)</th>\n",
              "      <th>Light (Lux)</th>\n",
              "      <th>Vibration (db)</th>\n",
              "      <th>Time of day (H)</th>\n",
              "      <th>Status</th>\n",
              "    </tr>\n",
              "  </thead>\n",
              "  <tbody>\n",
              "    <tr>\n",
              "      <th>0</th>\n",
              "      <td>40</td>\n",
              "      <td>340</td>\n",
              "      <td>35</td>\n",
              "      <td>9</td>\n",
              "      <td>Home</td>\n",
              "    </tr>\n",
              "    <tr>\n",
              "      <th>1</th>\n",
              "      <td>36</td>\n",
              "      <td>20</td>\n",
              "      <td>23</td>\n",
              "      <td>4</td>\n",
              "      <td>Sleeping</td>\n",
              "    </tr>\n",
              "    <tr>\n",
              "      <th>2</th>\n",
              "      <td>56</td>\n",
              "      <td>39</td>\n",
              "      <td>15</td>\n",
              "      <td>13</td>\n",
              "      <td>Not Home</td>\n",
              "    </tr>\n",
              "  </tbody>\n",
              "</table>\n",
              "</div>"
            ],
            "text/plain": [
              "   Sound (dB)  Light (Lux)  Vibration (db)  Time of day (H)    Status\n",
              "0          40          340              35                9      Home\n",
              "1          36           20              23                4  Sleeping\n",
              "2          56           39              15               13  Not Home"
            ]
          },
          "metadata": {},
          "execution_count": 32
        }
      ]
    },
    {
      "cell_type": "code",
      "metadata": {
        "colab": {
          "base_uri": "https://localhost:8080/",
          "height": 142
        },
        "id": "DgdV47KdQfGW",
        "outputId": "eb042f2c-07e8-4735-ce86-16f9f8492e9a"
      },
      "source": [
        "test.head(3)"
      ],
      "execution_count": 33,
      "outputs": [
        {
          "output_type": "execute_result",
          "data": {
            "text/html": [
              "<div>\n",
              "<style scoped>\n",
              "    .dataframe tbody tr th:only-of-type {\n",
              "        vertical-align: middle;\n",
              "    }\n",
              "\n",
              "    .dataframe tbody tr th {\n",
              "        vertical-align: top;\n",
              "    }\n",
              "\n",
              "    .dataframe thead th {\n",
              "        text-align: right;\n",
              "    }\n",
              "</style>\n",
              "<table border=\"1\" class=\"dataframe\">\n",
              "  <thead>\n",
              "    <tr style=\"text-align: right;\">\n",
              "      <th></th>\n",
              "      <th>Sound (dB)</th>\n",
              "      <th>Light (Lux)</th>\n",
              "      <th>Vibration (db)</th>\n",
              "      <th>Time of day (H)</th>\n",
              "      <th>Status</th>\n",
              "    </tr>\n",
              "  </thead>\n",
              "  <tbody>\n",
              "    <tr>\n",
              "      <th>0</th>\n",
              "      <td>32</td>\n",
              "      <td>27</td>\n",
              "      <td>17</td>\n",
              "      <td>3</td>\n",
              "      <td>NaN</td>\n",
              "    </tr>\n",
              "    <tr>\n",
              "      <th>1</th>\n",
              "      <td>54</td>\n",
              "      <td>20</td>\n",
              "      <td>27</td>\n",
              "      <td>6</td>\n",
              "      <td>NaN</td>\n",
              "    </tr>\n",
              "    <tr>\n",
              "      <th>2</th>\n",
              "      <td>43</td>\n",
              "      <td>200</td>\n",
              "      <td>23</td>\n",
              "      <td>10</td>\n",
              "      <td>NaN</td>\n",
              "    </tr>\n",
              "  </tbody>\n",
              "</table>\n",
              "</div>"
            ],
            "text/plain": [
              "   Sound (dB)  Light (Lux)  Vibration (db)  Time of day (H)  Status\n",
              "0          32           27              17                3     NaN\n",
              "1          54           20              27                6     NaN\n",
              "2          43          200              23               10     NaN"
            ]
          },
          "metadata": {},
          "execution_count": 33
        }
      ]
    },
    {
      "cell_type": "markdown",
      "metadata": {
        "id": "RYDr_yRMCf1E"
      },
      "source": [
        "# **KNN Algorithm**"
      ]
    },
    {
      "cell_type": "markdown",
      "metadata": {
        "id": "LmcfxkcpCjUG"
      },
      "source": [
        "Define Euclidean Distance Function"
      ]
    },
    {
      "cell_type": "code",
      "metadata": {
        "id": "tJFPRtqECrcl"
      },
      "source": [
        "import math\n",
        "def eudis(point1, point2):\n",
        "  distance = 0\n",
        "  for i in range(len(point1) - 1):\n",
        "    distance += (point1[i] - point2[i])**2\n",
        "  return math.sqrt(distance)"
      ],
      "execution_count": 24,
      "outputs": []
    },
    {
      "cell_type": "markdown",
      "metadata": {
        "id": "Yt6S4LZXRNQ8"
      },
      "source": [
        "Locate Nearest Neighbors"
      ]
    },
    {
      "cell_type": "code",
      "metadata": {
        "id": "_abrmnrdRPS4"
      },
      "source": [
        "def get_neighbors(train_list, test_point, k):\n",
        "\tdistances = []\n",
        "\tfor train_point in train_list:\n",
        "\t\tdist = eudis(train_point[:-1], test_point)\n",
        "\t\tdistances.append((train_point, dist))\n",
        "\tdistances.sort(key=lambda tup: tup[1])\n",
        "\tneighbors = []\n",
        "\tfor i in range(k):\n",
        "\t\tneighbors.append(distances[i][0])\n",
        "\treturn neighbors"
      ],
      "execution_count": 49,
      "outputs": []
    },
    {
      "cell_type": "markdown",
      "metadata": {
        "id": "K78XxGKBY-QJ"
      },
      "source": [
        "Make Predictions"
      ]
    },
    {
      "cell_type": "code",
      "metadata": {
        "id": "c0OtYJHlZAG2"
      },
      "source": [
        "def prediction(train_list, test_point, k):\n",
        "\tneighbors = get_neighbors(train_list, test_point, k)\n",
        "\tstatus = [neighbor[-1] for neighbor in neighbors]\n",
        "\tprediction = max(set(status), key=status.count)\n",
        "\treturn prediction"
      ],
      "execution_count": 54,
      "outputs": []
    },
    {
      "cell_type": "markdown",
      "metadata": {
        "id": "KbXiun7RNPHJ"
      },
      "source": [
        "# **Application on Dataset**"
      ]
    },
    {
      "cell_type": "markdown",
      "metadata": {
        "id": "PZfAtVieQp1h"
      },
      "source": [
        "Calculate Eulidean distance between each training and testing dataset"
      ]
    },
    {
      "cell_type": "code",
      "metadata": {
        "id": "6CfwswKKLtrx"
      },
      "source": [
        "train_list = train.values.tolist()"
      ],
      "execution_count": 50,
      "outputs": []
    },
    {
      "cell_type": "code",
      "metadata": {
        "id": "DInKImIOL8Fq"
      },
      "source": [
        "test_list = test_feature.values.tolist()"
      ],
      "execution_count": 57,
      "outputs": []
    },
    {
      "cell_type": "markdown",
      "metadata": {
        "id": "i1tU-qEcZ8nd"
      },
      "source": [
        "Show result for different k"
      ]
    },
    {
      "cell_type": "code",
      "metadata": {
        "id": "_2bmxo1aZplW"
      },
      "source": [
        "def show_pred(k):\n",
        "  status = []\n",
        "  for test_point in test_list:\n",
        "    pred = prediction(train_list,test_point,k)\n",
        "    status.append(pred)\n",
        "  return status"
      ],
      "execution_count": 73,
      "outputs": []
    },
    {
      "cell_type": "markdown",
      "metadata": {
        "id": "2QPr2W6VcG4Z"
      },
      "source": [
        "k=3"
      ]
    },
    {
      "cell_type": "code",
      "metadata": {
        "colab": {
          "base_uri": "https://localhost:8080/"
        },
        "id": "UAUzyy6Sb-8W",
        "outputId": "097806e6-2f20-46a6-c4fe-ce2409cd7ccc"
      },
      "source": [
        "show_pred(3)"
      ],
      "execution_count": 74,
      "outputs": [
        {
          "output_type": "execute_result",
          "data": {
            "text/plain": [
              "['Sleeping', 'Sleeping', 'Not Home', 'Home']"
            ]
          },
          "metadata": {},
          "execution_count": 74
        }
      ]
    },
    {
      "cell_type": "markdown",
      "metadata": {
        "id": "xHsREUCMbsgL"
      },
      "source": [
        "k=5"
      ]
    },
    {
      "cell_type": "code",
      "metadata": {
        "colab": {
          "base_uri": "https://localhost:8080/"
        },
        "id": "Z345MCPtbtir",
        "outputId": "d8357eda-d0f7-4f33-b44f-ec08e01a7252"
      },
      "source": [
        "show_pred(5)"
      ],
      "execution_count": 75,
      "outputs": [
        {
          "output_type": "execute_result",
          "data": {
            "text/plain": [
              "['Sleeping', 'Sleeping', 'Not Home', 'Home']"
            ]
          },
          "metadata": {},
          "execution_count": 75
        }
      ]
    },
    {
      "cell_type": "markdown",
      "metadata": {
        "id": "7rCaU9fNcL5s"
      },
      "source": [
        "k=7"
      ]
    },
    {
      "cell_type": "code",
      "metadata": {
        "colab": {
          "base_uri": "https://localhost:8080/"
        },
        "id": "2jzCtHh6cOR0",
        "outputId": "4745a934-d418-4845-b6f8-40cd1483d0c3"
      },
      "source": [
        "show_pred(5)"
      ],
      "execution_count": 76,
      "outputs": [
        {
          "output_type": "execute_result",
          "data": {
            "text/plain": [
              "['Sleeping', 'Sleeping', 'Not Home', 'Home']"
            ]
          },
          "metadata": {},
          "execution_count": 76
        }
      ]
    },
    {
      "cell_type": "markdown",
      "metadata": {
        "id": "hVfM-SzAcQDz"
      },
      "source": [
        "Conclusion: choice of k doesn't affect our result"
      ]
    }
  ]
}