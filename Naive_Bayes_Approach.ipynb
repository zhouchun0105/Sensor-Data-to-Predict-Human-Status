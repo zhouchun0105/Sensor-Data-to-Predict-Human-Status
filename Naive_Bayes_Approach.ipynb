{
  "nbformat": 4,
  "nbformat_minor": 0,
  "metadata": {
    "colab": {
      "name": "Naive Bayes Approach.ipynb",
      "provenance": [],
      "mount_file_id": "10ZhJfUXu5e8U1idm2HywsItQ2drT5nWX",
      "authorship_tag": "ABX9TyOfwiER93uz1sXhwu8L7bpj",
      "include_colab_link": true
    },
    "kernelspec": {
      "name": "python3",
      "display_name": "Python 3"
    },
    "language_info": {
      "name": "python"
    }
  },
  "cells": [
    {
      "cell_type": "markdown",
      "metadata": {
        "id": "view-in-github",
        "colab_type": "text"
      },
      "source": [
        "<a href=\"https://colab.research.google.com/github/zhouchun0105/Sensor-Data-to-Predict-Human-Status/blob/main/Naive_Bayes_Approach.ipynb\" target=\"_parent\"><img src=\"https://colab.research.google.com/assets/colab-badge.svg\" alt=\"Open In Colab\"/></a>"
      ]
    },
    {
      "cell_type": "markdown",
      "metadata": {
        "id": "uyRN0kbyQS5k"
      },
      "source": [
        "# **Naive Bayes Classifier**"
      ]
    },
    {
      "cell_type": "markdown",
      "metadata": {
        "id": "JzGNTMppQWMP"
      },
      "source": [
        "* Naive Bayes Classifier provides a more computationally efficient and more accurate classification than KNN."
      ]
    },
    {
      "cell_type": "markdown",
      "metadata": {
        "id": "PQtYQnt_ZinW"
      },
      "source": [
        "# **Import Dataset**"
      ]
    },
    {
      "cell_type": "code",
      "metadata": {
        "id": "4axSqkCjQAbx"
      },
      "source": [
        "import pandas as pd"
      ],
      "execution_count": 1,
      "outputs": []
    },
    {
      "cell_type": "code",
      "metadata": {
        "id": "sJUOllh_qiE5"
      },
      "source": [
        "train = pd.read_csv(\"/content/drive/MyDrive/Datasets/train.csv\")"
      ],
      "execution_count": 17,
      "outputs": []
    },
    {
      "cell_type": "code",
      "metadata": {
        "id": "wPFhF3a6qnfJ"
      },
      "source": [
        "test = pd.read_csv(\"/content/drive/MyDrive/Datasets/test.csv\")"
      ],
      "execution_count": 18,
      "outputs": []
    },
    {
      "cell_type": "code",
      "metadata": {
        "colab": {
          "base_uri": "https://localhost:8080/",
          "height": 204
        },
        "id": "fLPiFHAruVA_",
        "outputId": "18c24262-0d78-42f1-8677-5baa09698e9e"
      },
      "source": [
        "train.head()"
      ],
      "execution_count": 7,
      "outputs": [
        {
          "output_type": "execute_result",
          "data": {
            "text/html": [
              "<div>\n",
              "<style scoped>\n",
              "    .dataframe tbody tr th:only-of-type {\n",
              "        vertical-align: middle;\n",
              "    }\n",
              "\n",
              "    .dataframe tbody tr th {\n",
              "        vertical-align: top;\n",
              "    }\n",
              "\n",
              "    .dataframe thead th {\n",
              "        text-align: right;\n",
              "    }\n",
              "</style>\n",
              "<table border=\"1\" class=\"dataframe\">\n",
              "  <thead>\n",
              "    <tr style=\"text-align: right;\">\n",
              "      <th></th>\n",
              "      <th>Sound (dB)</th>\n",
              "      <th>Light (Lux)</th>\n",
              "      <th>Vibration (db)</th>\n",
              "      <th>Time of day (H)</th>\n",
              "      <th>Status</th>\n",
              "    </tr>\n",
              "  </thead>\n",
              "  <tbody>\n",
              "    <tr>\n",
              "      <th>0</th>\n",
              "      <td>40</td>\n",
              "      <td>340</td>\n",
              "      <td>35</td>\n",
              "      <td>9</td>\n",
              "      <td>Home</td>\n",
              "    </tr>\n",
              "    <tr>\n",
              "      <th>1</th>\n",
              "      <td>36</td>\n",
              "      <td>20</td>\n",
              "      <td>23</td>\n",
              "      <td>4</td>\n",
              "      <td>Sleeping</td>\n",
              "    </tr>\n",
              "    <tr>\n",
              "      <th>2</th>\n",
              "      <td>56</td>\n",
              "      <td>39</td>\n",
              "      <td>15</td>\n",
              "      <td>13</td>\n",
              "      <td>Not Home</td>\n",
              "    </tr>\n",
              "    <tr>\n",
              "      <th>3</th>\n",
              "      <td>32</td>\n",
              "      <td>50</td>\n",
              "      <td>15</td>\n",
              "      <td>1</td>\n",
              "      <td>Sleeping</td>\n",
              "    </tr>\n",
              "    <tr>\n",
              "      <th>4</th>\n",
              "      <td>63</td>\n",
              "      <td>430</td>\n",
              "      <td>19</td>\n",
              "      <td>10</td>\n",
              "      <td>Home</td>\n",
              "    </tr>\n",
              "  </tbody>\n",
              "</table>\n",
              "</div>"
            ],
            "text/plain": [
              "   Sound (dB)  Light (Lux)  Vibration (db)  Time of day (H)    Status\n",
              "0          40          340              35                9      Home\n",
              "1          36           20              23                4  Sleeping\n",
              "2          56           39              15               13  Not Home\n",
              "3          32           50              15                1  Sleeping\n",
              "4          63          430              19               10      Home"
            ]
          },
          "metadata": {},
          "execution_count": 7
        }
      ]
    },
    {
      "cell_type": "markdown",
      "metadata": {
        "id": "sTBbeckK02mc"
      },
      "source": [
        "# **Train Verification Split**"
      ]
    },
    {
      "cell_type": "markdown",
      "metadata": {
        "id": "92bYQub2tF3n"
      },
      "source": [
        "Randomly select 20% of training data into verification dataset"
      ]
    },
    {
      "cell_type": "code",
      "metadata": {
        "id": "cLNds5-Vr3kB"
      },
      "source": [
        "verification = train.sample(frac=0.2, random_state = 520)"
      ],
      "execution_count": 19,
      "outputs": []
    },
    {
      "cell_type": "markdown",
      "metadata": {
        "id": "sTzN5WoryfRK"
      },
      "source": [
        "Leave the rest of 80% data as training data"
      ]
    },
    {
      "cell_type": "code",
      "metadata": {
        "id": "oXhQDsLDvxRU"
      },
      "source": [
        "ver_index = verification.index.tolist()\n",
        "train_index = train.index.tolist()\n",
        "index = []\n",
        "for i in train_index:\n",
        "  if i not in ver_index:\n",
        "    index.append(i)"
      ],
      "execution_count": 33,
      "outputs": []
    },
    {
      "cell_type": "code",
      "metadata": {
        "id": "B7TrqvbDytjF"
      },
      "source": [
        "train = train.iloc[index]"
      ],
      "execution_count": 35,
      "outputs": []
    },
    {
      "cell_type": "markdown",
      "metadata": {
        "id": "ZgcoDLrB1Abt"
      },
      "source": [
        "# **Standardize the Dataset**"
      ]
    },
    {
      "cell_type": "code",
      "metadata": {
        "id": "DO8-z7t81C4L"
      },
      "source": [
        "# Find the min and max values for each column\n",
        "def dataset_minmax(dataset):\n",
        "\tminmax = list()\n",
        "\tfor i in range(len(dataset[0])):\n",
        "\t\tcol_values = [row[i] for row in dataset]\n",
        "\t\tvalue_min = min(col_values)\n",
        "\t\tvalue_max = max(col_values)\n",
        "\t\tminmax.append([value_min, value_max])\n",
        "\treturn minmax"
      ],
      "execution_count": 40,
      "outputs": []
    },
    {
      "cell_type": "code",
      "metadata": {
        "id": "iHkbBuXC1e-m"
      },
      "source": [
        "# Rescale dataset columns to the range 0-1\n",
        "def normalize_dataset(dataset, minmax):\n",
        "\tfor row in dataset:\n",
        "\t\tfor i in range(len(row)):\n",
        "\t\t\trow[i] = (row[i] - minmax[i][0]) / (minmax[i][1] - minmax[i][0])"
      ],
      "execution_count": 41,
      "outputs": []
    },
    {
      "cell_type": "code",
      "metadata": {
        "id": "2HoHfx762TIJ"
      },
      "source": [
        "train_stand_prep = train.drop(columns=\"Status\").values.tolist()"
      ],
      "execution_count": 45,
      "outputs": []
    },
    {
      "cell_type": "code",
      "metadata": {
        "colab": {
          "base_uri": "https://localhost:8080/"
        },
        "id": "YpQOIpan1rdr",
        "outputId": "8fed7af8-c41c-4cd5-c0fe-d44238c5195f"
      },
      "source": [
        "dataset_minmax(train_stand_prep)"
      ],
      "execution_count": 46,
      "outputs": [
        {
          "output_type": "execute_result",
          "data": {
            "text/plain": [
              "[[32, 68], [13, 430], [15, 68], [1, 16]]"
            ]
          },
          "metadata": {},
          "execution_count": 46
        }
      ]
    },
    {
      "cell_type": "code",
      "metadata": {
        "id": "IAN5iOXx1_GR"
      },
      "source": [
        "normalize_dataset(train_stand_prep, [[32, 68], [13, 430], [15, 68], [1, 16]])"
      ],
      "execution_count": 47,
      "outputs": []
    },
    {
      "cell_type": "code",
      "metadata": {
        "id": "Iu9FA80N2jxq"
      },
      "source": [
        "standardized_train = pd.DataFrame(train_stand_prep)"
      ],
      "execution_count": 49,
      "outputs": []
    },
    {
      "cell_type": "code",
      "metadata": {
        "id": "B4KKjAUw2ugK"
      },
      "source": [
        "standardized_train.columns = ['sound','light','vibration','time_of_day']"
      ],
      "execution_count": 51,
      "outputs": []
    },
    {
      "cell_type": "code",
      "metadata": {
        "colab": {
          "base_uri": "https://localhost:8080/",
          "height": 979
        },
        "id": "d1keEg823HYb",
        "outputId": "66013dc3-ec6f-443b-9731-b04aeac68b3f"
      },
      "source": [
        "standardized_train"
      ],
      "execution_count": 52,
      "outputs": [
        {
          "output_type": "execute_result",
          "data": {
            "text/html": [
              "<div>\n",
              "<style scoped>\n",
              "    .dataframe tbody tr th:only-of-type {\n",
              "        vertical-align: middle;\n",
              "    }\n",
              "\n",
              "    .dataframe tbody tr th {\n",
              "        vertical-align: top;\n",
              "    }\n",
              "\n",
              "    .dataframe thead th {\n",
              "        text-align: right;\n",
              "    }\n",
              "</style>\n",
              "<table border=\"1\" class=\"dataframe\">\n",
              "  <thead>\n",
              "    <tr style=\"text-align: right;\">\n",
              "      <th></th>\n",
              "      <th>sound</th>\n",
              "      <th>light</th>\n",
              "      <th>vibration</th>\n",
              "      <th>time_of_day</th>\n",
              "    </tr>\n",
              "  </thead>\n",
              "  <tbody>\n",
              "    <tr>\n",
              "      <th>0</th>\n",
              "      <td>0.222222</td>\n",
              "      <td>0.784173</td>\n",
              "      <td>0.377358</td>\n",
              "      <td>0.533333</td>\n",
              "    </tr>\n",
              "    <tr>\n",
              "      <th>1</th>\n",
              "      <td>0.111111</td>\n",
              "      <td>0.016787</td>\n",
              "      <td>0.150943</td>\n",
              "      <td>0.200000</td>\n",
              "    </tr>\n",
              "    <tr>\n",
              "      <th>2</th>\n",
              "      <td>0.666667</td>\n",
              "      <td>0.062350</td>\n",
              "      <td>0.000000</td>\n",
              "      <td>0.800000</td>\n",
              "    </tr>\n",
              "    <tr>\n",
              "      <th>3</th>\n",
              "      <td>0.000000</td>\n",
              "      <td>0.088729</td>\n",
              "      <td>0.000000</td>\n",
              "      <td>0.000000</td>\n",
              "    </tr>\n",
              "    <tr>\n",
              "      <th>4</th>\n",
              "      <td>0.861111</td>\n",
              "      <td>1.000000</td>\n",
              "      <td>0.075472</td>\n",
              "      <td>0.600000</td>\n",
              "    </tr>\n",
              "    <tr>\n",
              "      <th>5</th>\n",
              "      <td>1.000000</td>\n",
              "      <td>0.544365</td>\n",
              "      <td>0.169811</td>\n",
              "      <td>0.933333</td>\n",
              "    </tr>\n",
              "    <tr>\n",
              "      <th>6</th>\n",
              "      <td>0.000000</td>\n",
              "      <td>0.019185</td>\n",
              "      <td>0.301887</td>\n",
              "      <td>0.266667</td>\n",
              "    </tr>\n",
              "    <tr>\n",
              "      <th>7</th>\n",
              "      <td>0.055556</td>\n",
              "      <td>0.232614</td>\n",
              "      <td>0.566038</td>\n",
              "      <td>0.600000</td>\n",
              "    </tr>\n",
              "    <tr>\n",
              "      <th>8</th>\n",
              "      <td>0.777778</td>\n",
              "      <td>0.688249</td>\n",
              "      <td>0.452830</td>\n",
              "      <td>0.733333</td>\n",
              "    </tr>\n",
              "    <tr>\n",
              "      <th>9</th>\n",
              "      <td>0.000000</td>\n",
              "      <td>0.400480</td>\n",
              "      <td>0.113208</td>\n",
              "      <td>0.333333</td>\n",
              "    </tr>\n",
              "    <tr>\n",
              "      <th>10</th>\n",
              "      <td>0.194444</td>\n",
              "      <td>0.040767</td>\n",
              "      <td>0.094340</td>\n",
              "      <td>0.200000</td>\n",
              "    </tr>\n",
              "    <tr>\n",
              "      <th>11</th>\n",
              "      <td>0.361111</td>\n",
              "      <td>0.280576</td>\n",
              "      <td>0.452830</td>\n",
              "      <td>0.666667</td>\n",
              "    </tr>\n",
              "    <tr>\n",
              "      <th>12</th>\n",
              "      <td>0.472222</td>\n",
              "      <td>0.422062</td>\n",
              "      <td>0.320755</td>\n",
              "      <td>0.800000</td>\n",
              "    </tr>\n",
              "    <tr>\n",
              "      <th>13</th>\n",
              "      <td>0.916667</td>\n",
              "      <td>0.664269</td>\n",
              "      <td>0.320755</td>\n",
              "      <td>0.466667</td>\n",
              "    </tr>\n",
              "    <tr>\n",
              "      <th>14</th>\n",
              "      <td>0.277778</td>\n",
              "      <td>0.688249</td>\n",
              "      <td>0.528302</td>\n",
              "      <td>0.933333</td>\n",
              "    </tr>\n",
              "    <tr>\n",
              "      <th>15</th>\n",
              "      <td>0.472222</td>\n",
              "      <td>0.160671</td>\n",
              "      <td>0.547170</td>\n",
              "      <td>0.466667</td>\n",
              "    </tr>\n",
              "    <tr>\n",
              "      <th>16</th>\n",
              "      <td>0.166667</td>\n",
              "      <td>0.016787</td>\n",
              "      <td>0.377358</td>\n",
              "      <td>0.133333</td>\n",
              "    </tr>\n",
              "    <tr>\n",
              "      <th>17</th>\n",
              "      <td>0.666667</td>\n",
              "      <td>0.928058</td>\n",
              "      <td>0.886792</td>\n",
              "      <td>1.000000</td>\n",
              "    </tr>\n",
              "    <tr>\n",
              "      <th>18</th>\n",
              "      <td>0.555556</td>\n",
              "      <td>0.664269</td>\n",
              "      <td>0.283019</td>\n",
              "      <td>0.400000</td>\n",
              "    </tr>\n",
              "    <tr>\n",
              "      <th>19</th>\n",
              "      <td>0.305556</td>\n",
              "      <td>0.448441</td>\n",
              "      <td>0.471698</td>\n",
              "      <td>0.666667</td>\n",
              "    </tr>\n",
              "    <tr>\n",
              "      <th>20</th>\n",
              "      <td>0.444444</td>\n",
              "      <td>0.424460</td>\n",
              "      <td>0.415094</td>\n",
              "      <td>0.933333</td>\n",
              "    </tr>\n",
              "    <tr>\n",
              "      <th>21</th>\n",
              "      <td>0.361111</td>\n",
              "      <td>0.256595</td>\n",
              "      <td>0.641509</td>\n",
              "      <td>1.000000</td>\n",
              "    </tr>\n",
              "    <tr>\n",
              "      <th>22</th>\n",
              "      <td>0.750000</td>\n",
              "      <td>0.784173</td>\n",
              "      <td>1.000000</td>\n",
              "      <td>0.466667</td>\n",
              "    </tr>\n",
              "    <tr>\n",
              "      <th>23</th>\n",
              "      <td>0.194444</td>\n",
              "      <td>0.304556</td>\n",
              "      <td>0.339623</td>\n",
              "      <td>0.333333</td>\n",
              "    </tr>\n",
              "    <tr>\n",
              "      <th>24</th>\n",
              "      <td>0.277778</td>\n",
              "      <td>0.160671</td>\n",
              "      <td>0.075472</td>\n",
              "      <td>0.333333</td>\n",
              "    </tr>\n",
              "    <tr>\n",
              "      <th>25</th>\n",
              "      <td>0.333333</td>\n",
              "      <td>0.016787</td>\n",
              "      <td>0.320755</td>\n",
              "      <td>0.000000</td>\n",
              "    </tr>\n",
              "    <tr>\n",
              "      <th>26</th>\n",
              "      <td>0.750000</td>\n",
              "      <td>0.904077</td>\n",
              "      <td>0.509434</td>\n",
              "      <td>1.000000</td>\n",
              "    </tr>\n",
              "    <tr>\n",
              "      <th>27</th>\n",
              "      <td>0.611111</td>\n",
              "      <td>0.736211</td>\n",
              "      <td>0.773585</td>\n",
              "      <td>0.933333</td>\n",
              "    </tr>\n",
              "    <tr>\n",
              "      <th>28</th>\n",
              "      <td>0.055556</td>\n",
              "      <td>0.000000</td>\n",
              "      <td>0.132075</td>\n",
              "      <td>0.133333</td>\n",
              "    </tr>\n",
              "    <tr>\n",
              "      <th>29</th>\n",
              "      <td>0.305556</td>\n",
              "      <td>0.976019</td>\n",
              "      <td>0.377358</td>\n",
              "      <td>0.600000</td>\n",
              "    </tr>\n",
              "  </tbody>\n",
              "</table>\n",
              "</div>"
            ],
            "text/plain": [
              "       sound     light  vibration  time_of_day\n",
              "0   0.222222  0.784173   0.377358     0.533333\n",
              "1   0.111111  0.016787   0.150943     0.200000\n",
              "2   0.666667  0.062350   0.000000     0.800000\n",
              "3   0.000000  0.088729   0.000000     0.000000\n",
              "4   0.861111  1.000000   0.075472     0.600000\n",
              "5   1.000000  0.544365   0.169811     0.933333\n",
              "6   0.000000  0.019185   0.301887     0.266667\n",
              "7   0.055556  0.232614   0.566038     0.600000\n",
              "8   0.777778  0.688249   0.452830     0.733333\n",
              "9   0.000000  0.400480   0.113208     0.333333\n",
              "10  0.194444  0.040767   0.094340     0.200000\n",
              "11  0.361111  0.280576   0.452830     0.666667\n",
              "12  0.472222  0.422062   0.320755     0.800000\n",
              "13  0.916667  0.664269   0.320755     0.466667\n",
              "14  0.277778  0.688249   0.528302     0.933333\n",
              "15  0.472222  0.160671   0.547170     0.466667\n",
              "16  0.166667  0.016787   0.377358     0.133333\n",
              "17  0.666667  0.928058   0.886792     1.000000\n",
              "18  0.555556  0.664269   0.283019     0.400000\n",
              "19  0.305556  0.448441   0.471698     0.666667\n",
              "20  0.444444  0.424460   0.415094     0.933333\n",
              "21  0.361111  0.256595   0.641509     1.000000\n",
              "22  0.750000  0.784173   1.000000     0.466667\n",
              "23  0.194444  0.304556   0.339623     0.333333\n",
              "24  0.277778  0.160671   0.075472     0.333333\n",
              "25  0.333333  0.016787   0.320755     0.000000\n",
              "26  0.750000  0.904077   0.509434     1.000000\n",
              "27  0.611111  0.736211   0.773585     0.933333\n",
              "28  0.055556  0.000000   0.132075     0.133333\n",
              "29  0.305556  0.976019   0.377358     0.600000"
            ]
          },
          "metadata": {},
          "execution_count": 52
        }
      ]
    }
  ]
}